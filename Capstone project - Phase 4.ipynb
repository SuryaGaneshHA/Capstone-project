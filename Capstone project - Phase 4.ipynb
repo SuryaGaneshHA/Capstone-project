{
 "cells": [
  {
   "cell_type": "code",
   "execution_count": 2,
   "id": "bdccdc25-da3c-45ea-8ac6-03b6685d8334",
   "metadata": {},
   "outputs": [
    {
     "name": "stdout",
     "output_type": "stream",
     "text": [
      "Error: File 'crime_data.csv' not found. Please provide the correct file path.\n"
     ]
    }
   ],
   "source": [
    "import pandas as pd\n",
    "from sklearn.cluster import KMeans\n",
    "import matplotlib.pyplot as plt\n",
    "\n",
    "# Define the file path\n",
    "file_path = \"crime_data.csv\"\n",
    "\n",
    "# Attempt to load the crime dataset\n",
    "try:\n",
    "    crime_data = pd.read_csv(file_path)\n",
    "    print(\"Crime dataset loaded successfully!\")\n",
    "except FileNotFoundError:\n",
    "    print(f\"Error: File '{file_path}' not found. Please provide the correct file path.\")\n",
    "\n",
    "# Proceed with the analysis if the dataset is loaded successfully\n",
    "if 'crime_data' in locals():\n",
    "    # Preprocessing: Handle missing values, encode categorical variables, etc. (if needed)\n",
    "\n",
    "    # Select relevant features for clustering\n",
    "    features = ['Population', 'Unemployment Rate', 'Education Level', 'Income Level', 'Crime Rate']\n",
    "\n",
    "    # Normalize the features\n",
    "    normalized_data = (crime_data[features] - crime_data[features].mean()) / crime_data[features].std()\n",
    "\n",
    "    # Perform K-means clustering\n",
    "    kmeans = KMeans(n_clusters=3, random_state=42)\n",
    "    clusters = kmeans.fit_predict(normalized_data)\n",
    "\n",
    "    # Add cluster labels to the dataset\n",
    "    crime_data['Cluster'] = clusters\n",
    "\n",
    "    # Separate data for each cluster\n",
    "    cluster_1_data = crime_data[crime_data['Cluster'] == 0]\n",
    "    cluster_2_data = crime_data[crime_data['Cluster'] == 1]\n",
    "    cluster_3_data = crime_data[crime_data['Cluster'] == 2]\n",
    "\n",
    "    # Visualize the clusters (optional)\n",
    "    plt.scatter(normalized_data['Population'], normalized_data['Crime Rate'], c=clusters, cmap='viridis')\n",
    "    plt.xlabel('Population (Normalized)')\n",
    "    plt.ylabel('Crime Rate (Normalized)')\n",
    "    plt.title('Clustering of Districts based on Crime Rate and Population')\n",
    "    plt.show()\n",
    "\n",
    "    # Analysis and Report\n",
    "    # Example:\n",
    "    # - Analyze socio-economic factors contributing to higher crime rates in sensitive areas.\n",
    "    # - Recommend interventions to reduce crime based on cluster characteristics.\n",
    "    # - Identify safest and most unsafe districts within each cluster.\n",
    "    # - Visualize key findings using plots or graphs.\n",
    "\n",
    "    # Print DataFrame for each cluster\n",
    "    print(\"Cluster 1 Data:\")\n",
    "    print(cluster_1_data.head())\n",
    "\n",
    "    print(\"\\nCluster 2 Data:\")\n",
    "    print(cluster_2_data.head())\n",
    "\n",
    "    print(\"\\nCluster 3 Data:\")\n",
    "    print(cluster_3_data.head())\n"
   ]
  },
  {
   "cell_type": "code",
   "execution_count": null,
   "id": "00c874f4-25c2-4a35-811e-acc0ec51f5bd",
   "metadata": {},
   "outputs": [],
   "source": []
  }
 ],
 "metadata": {
  "kernelspec": {
   "display_name": "Python 3 (ipykernel)",
   "language": "python",
   "name": "python3"
  },
  "language_info": {
   "codemirror_mode": {
    "name": "ipython",
    "version": 3
   },
   "file_extension": ".py",
   "mimetype": "text/x-python",
   "name": "python",
   "nbconvert_exporter": "python",
   "pygments_lexer": "ipython3",
   "version": "3.11.7"
  }
 },
 "nbformat": 4,
 "nbformat_minor": 5
}
